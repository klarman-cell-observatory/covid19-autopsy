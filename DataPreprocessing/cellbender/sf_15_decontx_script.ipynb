{
 "cells": [
  {
   "cell_type": "markdown",
   "metadata": {},
   "source": [
    "# R notebook for running DecontX"
   ]
  },
  {
   "cell_type": "markdown",
   "metadata": {},
   "source": [
    "20210121\n",
    "\n",
    "Stephen Fleming"
   ]
  },
  {
   "cell_type": "markdown",
   "metadata": {},
   "source": [
    "How to run DecontX on our data... the details of this took a long time to figure out: thank you to Ayshwarya Subramanian and Orr Ashenberg for help figuring this out."
   ]
  },
  {
   "cell_type": "code",
   "execution_count": 1,
   "metadata": {},
   "outputs": [],
   "source": [
    "import rpy2\n",
    "%load_ext rpy2.ipython"
   ]
  },
  {
   "cell_type": "markdown",
   "metadata": {},
   "source": [
    "## Installation"
   ]
  },
  {
   "cell_type": "code",
   "execution_count": 2,
   "metadata": {},
   "outputs": [],
   "source": [
    "# %%R\n",
    "\n",
    "# BiocManager::install(\"celda\")"
   ]
  },
  {
   "cell_type": "code",
   "execution_count": 3,
   "metadata": {},
   "outputs": [],
   "source": [
    "%%R\n",
    "\n",
    "library(celda)"
   ]
  },
  {
   "cell_type": "code",
   "execution_count": 4,
   "metadata": {},
   "outputs": [],
   "source": [
    "# %%R\n",
    "\n",
    "# BiocManager::install(\"DropletUtils\")"
   ]
  },
  {
   "cell_type": "code",
   "execution_count": 5,
   "metadata": {},
   "outputs": [
    {
     "name": "stderr",
     "output_type": "stream",
     "text": [
      "R[write to console]: Loading required package: SingleCellExperiment\n",
      "\n",
      "R[write to console]: Loading required package: SummarizedExperiment\n",
      "\n",
      "R[write to console]: Loading required package: GenomicRanges\n",
      "\n",
      "R[write to console]: Loading required package: stats4\n",
      "\n",
      "R[write to console]: Loading required package: BiocGenerics\n",
      "\n",
      "R[write to console]: Loading required package: parallel\n",
      "\n",
      "R[write to console]: \n",
      "Attaching package: ‘BiocGenerics’\n",
      "\n",
      "\n",
      "R[write to console]: The following objects are masked from ‘package:parallel’:\n",
      "\n",
      "    clusterApply, clusterApplyLB, clusterCall, clusterEvalQ,\n",
      "    clusterExport, clusterMap, parApply, parCapply, parLapply,\n",
      "    parLapplyLB, parRapply, parSapply, parSapplyLB\n",
      "\n",
      "\n",
      "R[write to console]: The following objects are masked from ‘package:stats’:\n",
      "\n",
      "    IQR, mad, sd, var, xtabs\n",
      "\n",
      "\n",
      "R[write to console]: The following objects are masked from ‘package:base’:\n",
      "\n",
      "    anyDuplicated, append, as.data.frame, basename, cbind, colnames,\n",
      "    dirname, do.call, duplicated, eval, evalq, Filter, Find, get, grep,\n",
      "    grepl, intersect, is.unsorted, lapply, Map, mapply, match, mget,\n",
      "    order, paste, pmax, pmax.int, pmin, pmin.int, Position, rank,\n",
      "    rbind, Reduce, rownames, sapply, setdiff, sort, table, tapply,\n",
      "    union, unique, unsplit, which, which.max, which.min\n",
      "\n",
      "\n",
      "R[write to console]: Loading required package: S4Vectors\n",
      "\n",
      "R[write to console]: \n",
      "Attaching package: ‘S4Vectors’\n",
      "\n",
      "\n",
      "R[write to console]: The following object is masked from ‘package:celda’:\n",
      "\n",
      "    params\n",
      "\n",
      "\n",
      "R[write to console]: The following object is masked from ‘package:base’:\n",
      "\n",
      "    expand.grid\n",
      "\n",
      "\n",
      "R[write to console]: Loading required package: IRanges\n",
      "\n",
      "R[write to console]: Loading required package: GenomeInfoDb\n",
      "\n",
      "R[write to console]: Loading required package: Biobase\n",
      "\n",
      "R[write to console]: Welcome to Bioconductor\n",
      "\n",
      "    Vignettes contain introductory material; view with\n",
      "    'browseVignettes()'. To cite Bioconductor, see\n",
      "    'citation(\"Biobase\")', and for packages 'citation(\"pkgname\")'.\n",
      "\n",
      "\n",
      "R[write to console]: Loading required package: DelayedArray\n",
      "\n",
      "R[write to console]: Loading required package: matrixStats\n",
      "\n",
      "R[write to console]: \n",
      "Attaching package: ‘matrixStats’\n",
      "\n",
      "\n",
      "R[write to console]: The following objects are masked from ‘package:Biobase’:\n",
      "\n",
      "    anyMissing, rowMedians\n",
      "\n",
      "\n",
      "R[write to console]: Loading required package: BiocParallel\n",
      "\n",
      "R[write to console]: \n",
      "Attaching package: ‘DelayedArray’\n",
      "\n",
      "\n",
      "R[write to console]: The following objects are masked from ‘package:matrixStats’:\n",
      "\n",
      "    colMaxs, colMins, colRanges, rowMaxs, rowMins, rowRanges\n",
      "\n",
      "\n",
      "R[write to console]: The following objects are masked from ‘package:base’:\n",
      "\n",
      "    aperm, apply, rowsum\n",
      "\n",
      "\n"
     ]
    }
   ],
   "source": [
    "%%R\n",
    "\n",
    "library(DropletUtils)"
   ]
  },
  {
   "cell_type": "markdown",
   "metadata": {},
   "source": [
    "## Get data"
   ]
  },
  {
   "cell_type": "code",
   "execution_count": 9,
   "metadata": {},
   "outputs": [
    {
     "name": "stdout",
     "output_type": "stream",
     "text": [
      "[1] \"/home/jupyter-user/data/cellranger/02-P005175-S053-R01.h5\"\n"
     ]
    }
   ],
   "source": [
    "%%R\n",
    "\n",
    "file = '/home/jupyter-user/data/cellranger/02-P005175-S053-R01.h5'\n",
    "file"
   ]
  },
  {
   "cell_type": "code",
   "execution_count": 12,
   "metadata": {},
   "outputs": [
    {
     "name": "stdout",
     "output_type": "stream",
     "text": [
      "total 38M\r\n",
      "-rw-rw-r-- 1 jupyter-user users  47K Jan 22 00:27 barcodes.tsv.gz\r\n",
      "-rw-rw-r-- 1 jupyter-user users 341K Jan 22 00:27 features.tsv.gz\r\n",
      "-rw-rw-r-- 1 jupyter-user users  37M Jan 22 00:27 matrix.mtx.gz\r\n"
     ]
    }
   ],
   "source": [
    "!ls -lh /home/jupyter-user/data/cellranger/mtx/02-P005175-S053-R01"
   ]
  },
  {
   "cell_type": "markdown",
   "metadata": {},
   "source": [
    "## Running the tool"
   ]
  },
  {
   "cell_type": "code",
   "execution_count": 6,
   "metadata": {},
   "outputs": [
    {
     "name": "stdout",
     "output_type": "stream",
     "text": [
      "class: SingleCellExperiment \n",
      "dim: 33567 9344 \n",
      "metadata(1): Samples\n",
      "assays(1): counts\n",
      "rownames(33567): GRCh38premrna_ENSG00000243485\n",
      "  GRCh38premrna_ENSG00000237613 ... SARSCoV2______SARSCoV2_3prime\n",
      "  SARSCoV2______SARSCoV2_NegStrand\n",
      "rowData names(3): ID Symbol Type\n",
      "colnames: NULL\n",
      "colData names(2): Sample Barcode\n",
      "reducedDimNames(0):\n",
      "spikeNames(0):\n",
      "altExpNames(0):\n"
     ]
    }
   ],
   "source": [
    "%%R\n",
    "\n",
    "sce = read10xCounts('/home/jupyter-user/data/cellranger/mtx/02-P005175-S053-R01', sample.names=\"D1_heart\")\n",
    "sce"
   ]
  },
  {
   "cell_type": "code",
   "execution_count": 7,
   "metadata": {},
   "outputs": [],
   "source": [
    "%%R\n",
    "\n",
    "colnames(sce) <- paste(sce$Sample, sce$Barcode, sep = \"_\")\n",
    "rownames(sce) <- rowData(sce)$Symbol"
   ]
  },
  {
   "cell_type": "code",
   "execution_count": 8,
   "metadata": {},
   "outputs": [],
   "source": [
    "%%R\n",
    "\n",
    "keep_feature <- rowSums(counts(sce) > 0) > 0\n",
    "sce <- sce[keep_feature, ]"
   ]
  },
  {
   "cell_type": "code",
   "execution_count": 9,
   "metadata": {},
   "outputs": [
    {
     "name": "stdout",
     "output_type": "stream",
     "text": [
      "Formal class 'dgCMatrix' [package \"Matrix\"] with 6 slots\n",
      "  ..@ i       : int [1:10297935] 40 117 156 167 179 187 212 222 223 250 ...\n",
      "  ..@ p       : int [1:9345] 0 1380 3715 5073 5618 7681 8372 9533 10736 11293 ...\n",
      "  ..@ Dim     : int [1:2] 26312 9344\n",
      "  ..@ Dimnames:List of 2\n",
      "  .. ..$ : NULL\n",
      "  .. ..$ : NULL\n",
      "  ..@ x       : num [1:10297935] 1 1 1 1 2 1 1 1 1 1 ...\n",
      "  ..@ factors : list()\n"
     ]
    }
   ],
   "source": [
    "%%R\n",
    "\n",
    "str(sce@assays@data$counts)"
   ]
  },
  {
   "cell_type": "code",
   "execution_count": 10,
   "metadata": {},
   "outputs": [
    {
     "name": "stdout",
     "output_type": "stream",
     "text": [
      " num [1:26312, 1:9344] 0 0 0 0 0 0 0 0 0 0 ...\n",
      " - attr(*, \"dimnames\")=List of 2\n",
      "  ..$ : chr [1:26312] \"GRCh38premrna_AL627309.1\" \"GRCh38premrna_AL627309.2\" \"GRCh38premrna_AC114498.1\" \"GRCh38premrna_AL669831.5\" ...\n",
      "  ..$ : chr [1:9344] \"D1_heart_AAACCCAAGATACCAA-1\" \"D1_heart_AAACCCACACGCTGTG-1\" \"D1_heart_AAACCCATCAAGGCTT-1\" \"D1_heart_AAACCCATCGCGTGCA-1\" ...\n"
     ]
    }
   ],
   "source": [
    "%%R\n",
    "\n",
    "str(as.matrix(counts(sce)))"
   ]
  },
  {
   "cell_type": "code",
   "execution_count": 11,
   "metadata": {},
   "outputs": [],
   "source": [
    "%%R\n",
    "\n",
    "X <- as.matrix(counts(sce))"
   ]
  },
  {
   "cell_type": "code",
   "execution_count": 12,
   "metadata": {},
   "outputs": [],
   "source": [
    "%%R\n",
    "\n",
    "X <- apply(X, 1:2, as.integer)"
   ]
  },
  {
   "cell_type": "code",
   "execution_count": 13,
   "metadata": {},
   "outputs": [
    {
     "name": "stdout",
     "output_type": "stream",
     "text": [
      " int [1:26312, 1:9344] 0 0 0 0 0 0 0 0 0 0 ...\n",
      " - attr(*, \"dimnames\")=List of 2\n",
      "  ..$ : chr [1:26312] \"GRCh38premrna_AL627309.1\" \"GRCh38premrna_AL627309.2\" \"GRCh38premrna_AC114498.1\" \"GRCh38premrna_AL669831.5\" ...\n",
      "  ..$ : chr [1:9344] \"D1_heart_AAACCCAAGATACCAA-1\" \"D1_heart_AAACCCACACGCTGTG-1\" \"D1_heart_AAACCCATCAAGGCTT-1\" \"D1_heart_AAACCCATCGCGTGCA-1\" ...\n"
     ]
    }
   ],
   "source": [
    "%%R\n",
    "\n",
    "str(X)"
   ]
  },
  {
   "cell_type": "code",
   "execution_count": null,
   "metadata": {},
   "outputs": [
    {
     "name": "stderr",
     "output_type": "stream",
     "text": [
      "R[write to console]: --------------------------------------------------\n",
      "\n",
      "R[write to console]: Start DecontX. Decontamination\n",
      "\n",
      "R[write to console]: --------------------------------------------------\n",
      "\n"
     ]
    }
   ],
   "source": [
    "%%time\n",
    "%%R\n",
    "\n",
    "result <- celda::decontX(X)"
   ]
  },
  {
   "cell_type": "markdown",
   "metadata": {},
   "source": [
    "## Save output"
   ]
  },
  {
   "cell_type": "code",
   "execution_count": null,
   "metadata": {},
   "outputs": [],
   "source": [
    "%%R\n",
    "\n",
    "write.csv(result$resList$logLikelihood, \n",
    "          '/home/jupyter-user/analysis/decontx/02-P005175-S053-R01/logLikelihood.csv', quote=FALSE)\n",
    "write.csv(result$resList$theta, \n",
    "          '/home/jupyter-user/analysis/decontx/02-P005175-S053-R01/theta.csv', quote=FALSE)\n",
    "write.csv(result$resList$estConp, \n",
    "          '/home/jupyter-user/analysis/decontx/02-P005175-S053-R01/estConp.csv', quote=FALSE)\n",
    "write.csv(result$resList$estNativeCounts, \n",
    "          '/home/jupyter-user/analysis/decontx/02-P005175-S053-R01/estNativeCounts.csv', quote=FALSE)"
   ]
  },
  {
   "cell_type": "code",
   "execution_count": null,
   "metadata": {},
   "outputs": [],
   "source": [
    "%%R\n",
    "\n",
    "# try to save in sparse format\n",
    "\n",
    "out <- Matrix(result$resList$estNativeCounts, sparse = TRUE)\n",
    "\n",
    "writeMM(out, file = '/home/jupyter-user/analysis/decontx/02-P005175-S053-R01/mtx/matrix.mtx')\n",
    "\n",
    "write.csv2(colnames(out), file =\"/home/jupyter-user/analysis/decontx/02-P005175-S053-R01/mtx/barcodes.tsv\", \n",
    "           row.names=FALSE, col.names=FALSE, sep=\"\\t\", quote=FALSE)\n",
    "write.csv2(rownames(out), file =\"/home/jupyter-user/analysis/decontx/02-P005175-S053-R01/mtx/genes.tsv\", \n",
    "           row.names=FALSE, col.names=FALSE, sep=\"\\t\", quote=FALSE)"
   ]
  },
  {
   "cell_type": "code",
   "execution_count": null,
   "metadata": {},
   "outputs": [],
   "source": []
  },
  {
   "cell_type": "code",
   "execution_count": null,
   "metadata": {},
   "outputs": [],
   "source": []
  }
 ],
 "metadata": {
  "kernelspec": {
   "display_name": "Python 3",
   "language": "python",
   "name": "python3"
  },
  "language_info": {
   "codemirror_mode": {
    "name": "ipython",
    "version": 3
   },
   "file_extension": ".py",
   "mimetype": "text/x-python",
   "name": "python",
   "nbconvert_exporter": "python",
   "pygments_lexer": "ipython3",
   "version": "3.7.9"
  },
  "toc": {
   "base_numbering": 1,
   "nav_menu": {},
   "number_sections": true,
   "sideBar": true,
   "skip_h1_title": false,
   "title_cell": "Table of Contents",
   "title_sidebar": "Contents",
   "toc_cell": false,
   "toc_position": {},
   "toc_section_display": true,
   "toc_window_display": false
  }
 },
 "nbformat": 4,
 "nbformat_minor": 2
}
