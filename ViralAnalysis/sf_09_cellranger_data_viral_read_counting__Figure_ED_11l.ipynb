{
 "cells": [
  {
   "cell_type": "markdown",
   "metadata": {},
   "source": [
    "# Aggregate CellRanger data and count viral reads"
   ]
  },
  {
   "cell_type": "markdown",
   "metadata": {},
   "source": [
    "Stephen Fleming\n",
    "20210204"
   ]
  },
  {
   "cell_type": "markdown",
   "metadata": {},
   "source": [
    "## Start with one tissue at a time and explore the plots"
   ]
  },
  {
   "cell_type": "code",
   "execution_count": 1,
   "metadata": {},
   "outputs": [],
   "source": [
    "# select tissue of interest\n",
    "\n",
    "TISSUE = 'liver'"
   ]
  },
  {
   "cell_type": "code",
   "execution_count": 2,
   "metadata": {},
   "outputs": [],
   "source": [
    "# !pip install harmony-pytorch"
   ]
  },
  {
   "cell_type": "code",
   "execution_count": 2,
   "metadata": {},
   "outputs": [],
   "source": [
    "import pandas as pd\n",
    "import numpy as np\n",
    "\n",
    "import scanpy as sc\n",
    "import harmony\n",
    "from harmony import harmonize\n",
    "\n",
    "import glob\n",
    "import os\n",
    "\n",
    "import matplotlib.pyplot as plt\n",
    "%matplotlib inline"
   ]
  },
  {
   "cell_type": "code",
   "execution_count": 3,
   "metadata": {},
   "outputs": [
    {
     "data": {
      "text/plain": [
       "'1.6.1'"
      ]
     },
     "execution_count": 3,
     "metadata": {},
     "output_type": "execute_result"
    }
   ],
   "source": [
    "sc.__version__"
   ]
  },
  {
   "cell_type": "code",
   "execution_count": 4,
   "metadata": {},
   "outputs": [
    {
     "data": {
      "text/plain": [
       "'0.1.3'"
      ]
     },
     "execution_count": 4,
     "metadata": {},
     "output_type": "execute_result"
    }
   ],
   "source": [
    "harmony.__version__"
   ]
  },
  {
   "cell_type": "markdown",
   "metadata": {},
   "source": [
    "## Data"
   ]
  },
  {
   "cell_type": "markdown",
   "metadata": {},
   "source": [
    "### Sample information"
   ]
  },
  {
   "cell_type": "code",
   "execution_count": 6,
   "metadata": {},
   "outputs": [],
   "source": [
    "# concatenate sample sheets\n",
    "\n",
    "d = []\n",
    "\n",
    "import glob\n",
    "\n",
    "for file in glob.glob('/home/jupyter-user/analysis/sampletracking_*tissue.csv'):\n",
    "    d.append(pd.read_csv(file))\n",
    "\n",
    "data = pd.concat(d)"
   ]
  },
  {
   "cell_type": "markdown",
   "metadata": {},
   "source": [
    "`data` now contains the sample sheet table... the most important part just being a column called `\"tissue\"` which tells us which tissue each sample comes from."
   ]
  },
  {
   "cell_type": "code",
   "execution_count": 10,
   "metadata": {},
   "outputs": [
    {
     "data": {
      "text/plain": [
       "17"
      ]
     },
     "execution_count": 10,
     "metadata": {},
     "output_type": "execute_result"
    }
   ],
   "source": [
    "len(data[data['tissue'] == TISSUE])"
   ]
  },
  {
   "cell_type": "markdown",
   "metadata": {},
   "source": [
    "### Aggregate data"
   ]
  },
  {
   "cell_type": "code",
   "execution_count": 13,
   "metadata": {},
   "outputs": [],
   "source": [
    "# these were QC failures (ignored here in case the files are still present in the data table)\n",
    "\n",
    "EXCLUDE_SAMPLES = ['02-P166169-S092-R01', '02-P166169-S087-R02', \n",
    "                   '04-P103142-S039-R01', '04-P079042-S047-R01', \n",
    "                   '04-P054921-S064-R01']"
   ]
  },
  {
   "cell_type": "code",
   "execution_count": 20,
   "metadata": {},
   "outputs": [
    {
     "data": {
      "text/plain": [
       "['02-P166169-S109-R01',\n",
       " '02-P248880-S041-R01',\n",
       " '02-P005175-S022-R01',\n",
       " '02-P118946-S070-R01',\n",
       " '02-P166169-S022-R01',\n",
       " '02-P240970-S016-R01',\n",
       " '02-P334354-S041-R01',\n",
       " '02-P348762-S041-R01',\n",
       " '04-P054921-S080-R01',\n",
       " '04-P079042-S079-R01',\n",
       " '04-P103142-S069-R01',\n",
       " '12-P485759-S020-R01',\n",
       " '12-P230638-S003-R01',\n",
       " '12-P617758-S003-R01',\n",
       " '12-P852049-S003-R01',\n",
       " '12-P890292-S003-R01']"
      ]
     },
     "execution_count": 20,
     "metadata": {},
     "output_type": "execute_result"
    }
   ],
   "source": [
    "samples = (data[(data['tissue'] == TISSUE) \n",
    "                & data['sampleid'].apply(lambda s: \n",
    "                                         s not in EXCLUDE_SAMPLES)]['sampleid'].tolist()\n",
    "           + df_tissues[(df_tissues['tissue'] == TISSUE)\n",
    "                        & df_tissues['entity:sample_id'].apply(lambda s: \n",
    "                                                               s not in EXCLUDE_SAMPLES)]\\\n",
    "           ['entity:sample_id'].tolist())\n",
    "samples"
   ]
  },
  {
   "cell_type": "code",
   "execution_count": 15,
   "metadata": {},
   "outputs": [],
   "source": [
    "from typing import List\n",
    "import anndata\n",
    "import gc\n",
    "\n",
    "\n",
    "def aggregate_cellranger_data(sample_list: List[str],\n",
    "                              n_umi_cutoff: int = 0,\n",
    "                              n_gene_cutoff: int = 0,\n",
    "                              directory: str = '/home/jupyter-user/data/cellranger/') -> anndata.AnnData:\n",
    "    \"\"\"Aggregate several CellRanger h5 files into one anndata object.\"\"\"\n",
    "    \n",
    "    adata_list = []\n",
    "    \n",
    "    for sample in sample_list:\n",
    "        \n",
    "        print(sample)\n",
    "        \n",
    "        # find file\n",
    "        filename = glob.glob(os.path.join(directory, sample + '*.h5'))\n",
    "        \n",
    "        if len(filename) == 0:\n",
    "            print(f'Skipping sample {sample}... it is assumed it failed QC.')\n",
    "            continue\n",
    "        \n",
    "        assert len(filename) == 1, f'file glob was {filename}'\n",
    "        filename = filename[0]\n",
    "        \n",
    "        # load data\n",
    "        ad_tmp = sc.read_10x_h5(filename)\n",
    "        ad_tmp.var_names_make_unique()\n",
    "        ad_tmp.obs['sample'] = sample\n",
    "        ad_tmp.obs.index = sample + ad_tmp.obs.index\n",
    "        \n",
    "        # filter cells\n",
    "        sc.pp.filter_cells(ad_tmp, \n",
    "                           min_counts=n_umi_cutoff, \n",
    "                           inplace=True)\n",
    "        sc.pp.filter_cells(ad_tmp,  \n",
    "                           min_genes=n_gene_cutoff, \n",
    "                           inplace=True)\n",
    "        print(ad_tmp.shape)\n",
    "        adata_list.append(ad_tmp)\n",
    "        \n",
    "        # clean up\n",
    "        del ad_tmp\n",
    "        gc.collect()\n",
    "        \n",
    "    # concatenate into a big object\n",
    "    adata = adata_list[0].concatenate(*adata_list[1:], join='outer')\n",
    "    return adata\n",
    "\n",
    "\n",
    "def aggregate_data(sample_list: List[str],\n",
    "                   directory: str = '/home/jupyter-user/analysis/pegasus') -> anndata.AnnData:\n",
    "    \"\"\"Aggregate several h5ad files into one anndata object.\"\"\"\n",
    "    \n",
    "    adata_list = []\n",
    "    \n",
    "    for sample in sample_list:\n",
    "        \n",
    "        print(sample)\n",
    "        \n",
    "        # find file\n",
    "        filename = glob.glob(os.path.join(directory, sample + '*.h5ad'))\n",
    "        \n",
    "        if len(filename) == 0:\n",
    "            print(f'Skipping sample {sample}... it is assumed it failed QC.')\n",
    "            continue\n",
    "        \n",
    "        assert len(filename) == 1, f'file glob was {filename}'\n",
    "        filename = filename[0]\n",
    "        \n",
    "        # load data\n",
    "        ad_tmp = sc.read_h5ad(filename)\n",
    "        print(ad_tmp.shape)\n",
    "        adata_list.append(ad_tmp)\n",
    "        \n",
    "        # clean up\n",
    "        del ad_tmp\n",
    "        gc.collect()\n",
    "        \n",
    "    # concatenate into a big object\n",
    "    adata = adata_list[0].concatenate(*adata_list[1:], join='outer')\n",
    "    return adata"
   ]
  },
  {
   "cell_type": "code",
   "execution_count": 22,
   "metadata": {},
   "outputs": [
    {
     "name": "stdout",
     "output_type": "stream",
     "text": [
      "02-P166169-S109-R01\n"
     ]
    },
    {
     "name": "stderr",
     "output_type": "stream",
     "text": [
      "Variable names are not unique. To make them unique, call `.var_names_make_unique`.\n",
      "Variable names are not unique. To make them unique, call `.var_names_make_unique`.\n"
     ]
    },
    {
     "name": "stdout",
     "output_type": "stream",
     "text": [
      "(119027, 33567)\n",
      "02-P248880-S041-R01\n"
     ]
    },
    {
     "name": "stderr",
     "output_type": "stream",
     "text": [
      "Variable names are not unique. To make them unique, call `.var_names_make_unique`.\n",
      "Variable names are not unique. To make them unique, call `.var_names_make_unique`.\n"
     ]
    },
    {
     "name": "stdout",
     "output_type": "stream",
     "text": [
      "(602550, 33567)\n",
      "02-P005175-S022-R01\n"
     ]
    },
    {
     "name": "stderr",
     "output_type": "stream",
     "text": [
      "Variable names are not unique. To make them unique, call `.var_names_make_unique`.\n",
      "Variable names are not unique. To make them unique, call `.var_names_make_unique`.\n"
     ]
    },
    {
     "name": "stdout",
     "output_type": "stream",
     "text": [
      "(1324209, 33567)\n",
      "02-P118946-S070-R01\n"
     ]
    },
    {
     "name": "stderr",
     "output_type": "stream",
     "text": [
      "Variable names are not unique. To make them unique, call `.var_names_make_unique`.\n",
      "Variable names are not unique. To make them unique, call `.var_names_make_unique`.\n"
     ]
    },
    {
     "name": "stdout",
     "output_type": "stream",
     "text": [
      "(506484, 33567)\n",
      "02-P166169-S022-R01\n"
     ]
    },
    {
     "name": "stderr",
     "output_type": "stream",
     "text": [
      "Variable names are not unique. To make them unique, call `.var_names_make_unique`.\n",
      "Variable names are not unique. To make them unique, call `.var_names_make_unique`.\n"
     ]
    },
    {
     "name": "stdout",
     "output_type": "stream",
     "text": [
      "(627134, 33567)\n",
      "02-P240970-S016-R01\n"
     ]
    },
    {
     "name": "stderr",
     "output_type": "stream",
     "text": [
      "Variable names are not unique. To make them unique, call `.var_names_make_unique`.\n",
      "Variable names are not unique. To make them unique, call `.var_names_make_unique`.\n"
     ]
    },
    {
     "name": "stdout",
     "output_type": "stream",
     "text": [
      "(465770, 33567)\n",
      "02-P334354-S041-R01\n"
     ]
    },
    {
     "name": "stderr",
     "output_type": "stream",
     "text": [
      "Variable names are not unique. To make them unique, call `.var_names_make_unique`.\n",
      "Variable names are not unique. To make them unique, call `.var_names_make_unique`.\n"
     ]
    },
    {
     "name": "stdout",
     "output_type": "stream",
     "text": [
      "(703128, 33567)\n",
      "02-P348762-S041-R01\n"
     ]
    },
    {
     "name": "stderr",
     "output_type": "stream",
     "text": [
      "Variable names are not unique. To make them unique, call `.var_names_make_unique`.\n",
      "Variable names are not unique. To make them unique, call `.var_names_make_unique`.\n"
     ]
    },
    {
     "name": "stdout",
     "output_type": "stream",
     "text": [
      "(929972, 33567)\n",
      "04-P054921-S080-R01\n"
     ]
    },
    {
     "name": "stderr",
     "output_type": "stream",
     "text": [
      "Variable names are not unique. To make them unique, call `.var_names_make_unique`.\n",
      "Variable names are not unique. To make them unique, call `.var_names_make_unique`.\n"
     ]
    },
    {
     "name": "stdout",
     "output_type": "stream",
     "text": [
      "(909163, 33567)\n",
      "04-P079042-S079-R01\n"
     ]
    },
    {
     "name": "stderr",
     "output_type": "stream",
     "text": [
      "Variable names are not unique. To make them unique, call `.var_names_make_unique`.\n",
      "Variable names are not unique. To make them unique, call `.var_names_make_unique`.\n"
     ]
    },
    {
     "name": "stdout",
     "output_type": "stream",
     "text": [
      "(1186736, 33567)\n",
      "04-P103142-S069-R01\n"
     ]
    },
    {
     "name": "stderr",
     "output_type": "stream",
     "text": [
      "Variable names are not unique. To make them unique, call `.var_names_make_unique`.\n",
      "Variable names are not unique. To make them unique, call `.var_names_make_unique`.\n"
     ]
    },
    {
     "name": "stdout",
     "output_type": "stream",
     "text": [
      "(629232, 33567)\n",
      "12-P485759-S020-R01\n"
     ]
    },
    {
     "name": "stderr",
     "output_type": "stream",
     "text": [
      "Variable names are not unique. To make them unique, call `.var_names_make_unique`.\n",
      "Variable names are not unique. To make them unique, call `.var_names_make_unique`.\n"
     ]
    },
    {
     "name": "stdout",
     "output_type": "stream",
     "text": [
      "(904522, 33567)\n",
      "12-P230638-S003-R01\n"
     ]
    },
    {
     "name": "stderr",
     "output_type": "stream",
     "text": [
      "Variable names are not unique. To make them unique, call `.var_names_make_unique`.\n",
      "Variable names are not unique. To make them unique, call `.var_names_make_unique`.\n"
     ]
    },
    {
     "name": "stdout",
     "output_type": "stream",
     "text": [
      "(1054693, 33567)\n",
      "12-P617758-S003-R01\n"
     ]
    },
    {
     "name": "stderr",
     "output_type": "stream",
     "text": [
      "Variable names are not unique. To make them unique, call `.var_names_make_unique`.\n",
      "Variable names are not unique. To make them unique, call `.var_names_make_unique`.\n"
     ]
    },
    {
     "name": "stdout",
     "output_type": "stream",
     "text": [
      "(1336119, 33567)\n",
      "12-P852049-S003-R01\n"
     ]
    },
    {
     "name": "stderr",
     "output_type": "stream",
     "text": [
      "Variable names are not unique. To make them unique, call `.var_names_make_unique`.\n",
      "Variable names are not unique. To make them unique, call `.var_names_make_unique`.\n"
     ]
    },
    {
     "name": "stdout",
     "output_type": "stream",
     "text": [
      "(1242698, 33567)\n",
      "12-P890292-S003-R01\n"
     ]
    },
    {
     "name": "stderr",
     "output_type": "stream",
     "text": [
      "Variable names are not unique. To make them unique, call `.var_names_make_unique`.\n",
      "Variable names are not unique. To make them unique, call `.var_names_make_unique`.\n"
     ]
    },
    {
     "name": "stdout",
     "output_type": "stream",
     "text": [
      "(1198013, 33567)\n"
     ]
    }
   ],
   "source": [
    "adata = aggregate_cellranger_data(samples,\n",
    "                                  n_umi_cutoff=1, n_gene_cutoff=0)"
   ]
  },
  {
   "cell_type": "code",
   "execution_count": 23,
   "metadata": {},
   "outputs": [
    {
     "data": {
      "text/plain": [
       "AnnData object with n_obs × n_vars = 13739450 × 33567\n",
       "    obs: 'sample', 'n_counts', 'n_genes', 'batch'\n",
       "    var: 'gene_ids', 'feature_types', 'genome'"
      ]
     },
     "execution_count": 23,
     "metadata": {},
     "output_type": "execute_result"
    }
   ],
   "source": [
    "adata"
   ]
  },
  {
   "cell_type": "code",
   "execution_count": 24,
   "metadata": {},
   "outputs": [
    {
     "data": {
      "text/plain": [
       "array(['GRCh38premrna', 'SARSCoV2'], dtype=object)"
      ]
     },
     "execution_count": 24,
     "metadata": {},
     "output_type": "execute_result"
    }
   ],
   "source": [
    "adata.var['genome'].unique()"
   ]
  },
  {
   "cell_type": "code",
   "execution_count": 25,
   "metadata": {},
   "outputs": [
    {
     "data": {
      "text/plain": [
       "Index(['SARSCoV2______SARSCoV2_5prime', 'SARSCoV2______SARSCoV2_nsp1',\n",
       "       'SARSCoV2______SARSCoV2_nsp2', 'SARSCoV2______SARSCoV2_nsp3',\n",
       "       'SARSCoV2______SARSCoV2_nsp4', 'SARSCoV2______SARSCoV2_nsp5',\n",
       "       'SARSCoV2______SARSCoV2_nsp6', 'SARSCoV2______SARSCoV2_nsp7',\n",
       "       'SARSCoV2______SARSCoV2_nsp8', 'SARSCoV2______SARSCoV2_nsp9',\n",
       "       'SARSCoV2______SARSCoV2_nsp10', 'SARSCoV2______SARSCoV2_nsp11',\n",
       "       'SARSCoV2______SARSCoV2_nsp12', 'SARSCoV2______SARSCoV2_nsp13',\n",
       "       'SARSCoV2______SARSCoV2_nsp14', 'SARSCoV2______SARSCoV2_nsp15',\n",
       "       'SARSCoV2______SARSCoV2_nsp16', 'SARSCoV2______SARSCoV2_S',\n",
       "       'SARSCoV2______SARSCoV2_ORF3a', 'SARSCoV2______SARSCoV2_E',\n",
       "       'SARSCoV2______SARSCoV2_M', 'SARSCoV2______SARSCoV2_ORF6',\n",
       "       'SARSCoV2______SARSCoV2_ORF7a', 'SARSCoV2______SARSCoV2_ORF7b',\n",
       "       'SARSCoV2______SARSCoV2_ORF8', 'SARSCoV2______SARSCoV2_N',\n",
       "       'SARSCoV2______SARSCoV2_ORF10', 'SARSCoV2______SARSCoV2_3prime',\n",
       "       'SARSCoV2______SARSCoV2_NegStrand'],\n",
       "      dtype='object')"
      ]
     },
     "execution_count": 25,
     "metadata": {},
     "output_type": "execute_result"
    }
   ],
   "source": [
    "sars_genes = adata.var_names[adata.var['genome'] == 'SARSCoV2']\n",
    "sars_genes"
   ]
  },
  {
   "cell_type": "code",
   "execution_count": 26,
   "metadata": {},
   "outputs": [
    {
     "data": {
      "text/plain": [
       "29"
      ]
     },
     "execution_count": 26,
     "metadata": {},
     "output_type": "execute_result"
    }
   ],
   "source": [
    "len(sars_genes)"
   ]
  },
  {
   "cell_type": "markdown",
   "metadata": {},
   "source": [
    "Two counting strategies, just as a double-check."
   ]
  },
  {
   "cell_type": "code",
   "execution_count": 27,
   "metadata": {},
   "outputs": [
    {
     "data": {
      "text/plain": [
       "45.0"
      ]
     },
     "execution_count": 27,
     "metadata": {},
     "output_type": "execute_result"
    }
   ],
   "source": [
    "adata.X[:, np.array([g in sars_genes for g in adata.var_names])].sum()"
   ]
  },
  {
   "cell_type": "code",
   "execution_count": 28,
   "metadata": {},
   "outputs": [
    {
     "data": {
      "text/plain": [
       "45.0"
      ]
     },
     "execution_count": 28,
     "metadata": {},
     "output_type": "execute_result"
    }
   ],
   "source": [
    "adata.X[:, adata.var_names.str.startswith('SARSCoV2_')].sum()"
   ]
  },
  {
   "cell_type": "markdown",
   "metadata": {},
   "source": [
    "## Number of viral droplets as a function of UMI cutoff"
   ]
  },
  {
   "cell_type": "code",
   "execution_count": 29,
   "metadata": {},
   "outputs": [],
   "source": [
    "adata.obs['viral_reads'] = \\\n",
    "    np.array(adata.X[:, adata.var_names.str.startswith('SARSCoV2_')].sum(axis=1)).squeeze()"
   ]
  },
  {
   "cell_type": "code",
   "execution_count": 30,
   "metadata": {},
   "outputs": [
    {
     "data": {
      "text/plain": [
       "AnnData object with n_obs × n_vars = 13739450 × 33567\n",
       "    obs: 'sample', 'n_counts', 'n_genes', 'batch', 'viral_reads'\n",
       "    var: 'gene_ids', 'feature_types', 'genome'"
      ]
     },
     "execution_count": 30,
     "metadata": {},
     "output_type": "execute_result"
    }
   ],
   "source": [
    "adata"
   ]
  },
  {
   "cell_type": "code",
   "execution_count": 31,
   "metadata": {},
   "outputs": [],
   "source": [
    "plt.rcParams.update({'font.size': 12})"
   ]
  },
  {
   "cell_type": "code",
   "execution_count": 32,
   "metadata": {},
   "outputs": [
    {
     "data": {
      "image/png": "[encoded data removed]",
      "text/plain": [
       "<Figure size 432x288 with 1 Axes>"
      ]
     },
     "metadata": {
      "needs_background": "light"
     },
     "output_type": "display_data"
    }
   ],
   "source": [
    "plt.plot(adata.obs['n_counts'], adata.obs['viral_reads'], '.')\n",
    "plt.xscale('log')\n",
    "plt.ylabel('viral read count')\n",
    "plt.xlabel('UMI count')\n",
    "plt.show()"
   ]
  },
  {
   "cell_type": "code",
   "execution_count": 33,
   "metadata": {},
   "outputs": [],
   "source": [
    "order = np.argsort(adata.obs['n_counts'])\n",
    "cumsum_reads = np.cumsum(adata.obs['viral_reads'][order].values)\n",
    "cumsum_drops = np.cumsum(np.minimum(1, adata.obs['viral_reads'][order].values))"
   ]
  },
  {
   "cell_type": "code",
   "execution_count": 34,
   "metadata": {},
   "outputs": [
    {
     "data": {
      "image/png": "[encoded data removed]",
      "text/plain": [
       "<Figure size 432x288 with 1 Axes>"
      ]
     },
     "metadata": {
      "needs_background": "light"
     },
     "output_type": "display_data"
    }
   ],
   "source": [
    "plt.plot(adata.obs['n_counts'][order].values, cumsum_reads)\n",
    "plt.xscale('log')\n",
    "plt.xlabel('UMI count')\n",
    "plt.ylabel('Cumulative viral read count')\n",
    "plt.title(f'Combined {TISSUE} data')\n",
    "\n",
    "plt.gcf().savefig(f'virus_{TISSUE}_cumulative_reads.pdf', bbox_inches='tight')\n",
    "\n",
    "plt.show()"
   ]
  },
  {
   "cell_type": "code",
   "execution_count": 35,
   "metadata": {},
   "outputs": [
    {
     "data": {
      "image/png": "[encoded data removed]",
      "text/plain": [
       "<Figure size 432x288 with 1 Axes>"
      ]
     },
     "metadata": {
      "needs_background": "light"
     },
     "output_type": "display_data"
    }
   ],
   "source": [
    "plt.plot(adata.obs['n_counts'][order].values, cumsum_drops)\n",
    "plt.xscale('log')\n",
    "plt.xlabel('UMI count')\n",
    "plt.ylabel('Cumulative number of\\nviral_count > 0 droplets')\n",
    "plt.title(f'Combined {TISSUE} data')\n",
    "\n",
    "plt.gcf().savefig(f'virus_{TISSUE}_cumulative_positive_droplets.pdf', bbox_inches='tight')\n",
    "\n",
    "plt.show()"
   ]
  },
  {
   "cell_type": "markdown",
   "metadata": {},
   "source": [
    "## CDF of viral droplets as a function of UMI cutoff"
   ]
  },
  {
   "cell_type": "code",
   "execution_count": 36,
   "metadata": {},
   "outputs": [
    {
     "data": {
      "image/png": "[encoded data removed]",
      "text/plain": [
       "<Figure size 432x288 with 1 Axes>"
      ]
     },
     "metadata": {
      "needs_background": "light"
     },
     "output_type": "display_data"
    }
   ],
   "source": [
    "plt.plot(adata.obs['n_counts'][order].values, cumsum_drops / cumsum_drops[-1])\n",
    "plt.xscale('log')\n",
    "plt.xlabel('UMI count')\n",
    "plt.ylabel('cumulative fraction of\\nviral_count > 0 droplets')\n",
    "plt.title('Viral droplet cumulative distribution function\\n' + TISSUE)\n",
    "plt.show()"
   ]
  },
  {
   "cell_type": "code",
   "execution_count": 37,
   "metadata": {},
   "outputs": [
    {
     "data": {
      "image/png": "[encoded data removed]",
      "text/plain": [
       "<Figure size 432x288 with 1 Axes>"
      ]
     },
     "metadata": {
      "needs_background": "light"
     },
     "output_type": "display_data"
    }
   ],
   "source": [
    "plt.plot(adata.obs['n_counts'][order].values, cumsum_drops / adata.shape[0])\n",
    "plt.xscale('log')\n",
    "plt.xlabel('UMI count')\n",
    "plt.ylabel('cumulative viral_count > 0 droplets\\nas a fraction of total droplets')\n",
    "plt.title('Viral droplet distribution\\nas a fraction of total UMI>0 droplets\\n' + TISSUE)\n",
    "plt.show()"
   ]
  },
  {
   "cell_type": "code",
   "execution_count": 38,
   "metadata": {},
   "outputs": [
    {
     "data": {
      "image/png": "[encoded data removed]",
      "text/plain": [
       "<Figure size 432x288 with 1 Axes>"
      ]
     },
     "metadata": {
      "needs_background": "light"
     },
     "output_type": "display_data"
    }
   ],
   "source": [
    "plt.plot(adata.obs['n_counts'][order].values, cumsum_reads / cumsum_reads[-1])\n",
    "plt.xscale('log')\n",
    "plt.xlabel('UMI count')\n",
    "plt.ylabel('cumulative viral read count')\n",
    "plt.title('Viral reads cumulative distribution function\\n' + TISSUE)\n",
    "plt.show()"
   ]
  },
  {
   "cell_type": "markdown",
   "metadata": {},
   "source": [
    "## Viral reads overlaid on UMI curve"
   ]
  },
  {
   "cell_type": "code",
   "execution_count": 39,
   "metadata": {},
   "outputs": [
    {
     "data": {
      "image/png": "[encoded data removed]",
      "text/plain": [
       "<Figure size 432x288 with 2 Axes>"
      ]
     },
     "metadata": {
      "needs_background": "light"
     },
     "output_type": "display_data"
    }
   ],
   "source": [
    "plt.semilogy(adata.obs['n_counts'].values[order[::-1]], \n",
    "             'k-', rasterized=True,\n",
    "             label='UMI curve')\n",
    "plt.xscale('log')\n",
    "plt.xlabel('Droplet')\n",
    "plt.ylabel('UMI count')\n",
    "plt.twinx()\n",
    "plt.plot(adata.obs['viral_reads'].values[order[::-1]], \n",
    "         '.', ms=4, alpha=0.2, color='red', rasterized=True,\n",
    "         label='Viral reads')\n",
    "if TISSUE == 'lung':\n",
    "    plt.yscale('log')\n",
    "plt.ylabel('Viral read count', color='red')\n",
    "# plt.legend()\n",
    "plt.title(f'Combined {TISSUE} data')\n",
    "\n",
    "plt.gcf().savefig(f'virus_{TISSUE}_UMI_curve.pdf', bbox_inches='tight')\n",
    "\n",
    "plt.show()"
   ]
  },
  {
   "cell_type": "code",
   "execution_count": null,
   "metadata": {},
   "outputs": [],
   "source": []
  },
  {
   "cell_type": "code",
   "execution_count": null,
   "metadata": {},
   "outputs": [],
   "source": []
  },
  {
   "cell_type": "code",
   "execution_count": null,
   "metadata": {},
   "outputs": [],
   "source": []
  },
  {
   "cell_type": "code",
   "execution_count": null,
   "metadata": {},
   "outputs": [],
   "source": []
  },
  {
   "cell_type": "markdown",
   "metadata": {},
   "source": [
    "## Whole hog in one panel"
   ]
  },
  {
   "cell_type": "markdown",
   "metadata": {},
   "source": [
    "Run the above for all tissues, and plot them all together."
   ]
  },
  {
   "cell_type": "code",
   "execution_count": null,
   "metadata": {
    "scrolled": true
   },
   "outputs": [],
   "source": [
    "d = {}\n",
    "\n",
    "for TISSUE in ['liver', 'kidney', 'heart', 'lung']:\n",
    "    \n",
    "    print(TISSUE)\n",
    "    \n",
    "    samples = (data[(data['tissue'] == TISSUE) \n",
    "                    & data['sampleid'].apply(lambda s: \n",
    "                                             s not in EXCLUDE_SAMPLES)]['sampleid'].tolist()\n",
    "               + df_tissues[(df_tissues['tissue'] == TISSUE)\n",
    "                            & df_tissues['entity:sample_id'].apply(lambda s: \n",
    "                                                                   s not in EXCLUDE_SAMPLES)]\\\n",
    "               ['entity:sample_id'].tolist())\n",
    "    \n",
    "    print('   ', len(samples), 'samples')\n",
    "    \n",
    "    print('    loading...')\n",
    "    adata = aggregate_cellranger_data(samples,\n",
    "                                      n_umi_cutoff=1, n_gene_cutoff=0)\n",
    "    \n",
    "    print('    counting viral reads...')\n",
    "    \n",
    "    adata.obs['viral_reads'] = \\\n",
    "        np.array(adata.X[:, adata.var_names.str.startswith('SARSCoV2_')].sum(axis=1)).squeeze()\n",
    "    \n",
    "    order = np.argsort(adata.obs['n_counts'])\n",
    "    cumsum_reads = np.cumsum(adata.obs['viral_reads'][order].values)\n",
    "    cumsum_drops = np.cumsum(np.minimum(1, adata.obs['viral_reads'][order].values))\n",
    "    \n",
    "    d.update({TISSUE + '_x': adata.obs['n_counts'][order].values,\n",
    "              TISSUE + '_frac': cumsum_drops / adata.shape[0],\n",
    "              TISSUE + '_reads': cumsum_reads, \n",
    "              TISSUE + '_cum': cumsum_drops / cumsum_drops[-1],})"
   ]
  },
  {
   "cell_type": "code",
   "execution_count": 22,
   "metadata": {},
   "outputs": [
    {
     "data": {
      "text/plain": [
       "{'liver_x': array([1.0000e+00, 1.0000e+00, 1.0000e+00, ..., 5.2222e+04, 5.2670e+04,\n",
       "        6.4963e+04], dtype=float32),\n",
       " 'liver_frac': array([0.0000000e+00, 0.0000000e+00, 0.0000000e+00, ..., 2.5474091e-06,\n",
       "        2.5474091e-06, 2.5474091e-06]),\n",
       " 'liver_reads': array([ 0.,  0.,  0., ..., 45., 45., 45.], dtype=float32),\n",
       " 'liver_cum': array([0., 0., 0., ..., 1., 1., 1.], dtype=float32),\n",
       " 'kidney_x': array([1.0000e+00, 1.0000e+00, 1.0000e+00, ..., 3.8800e+04, 4.3299e+04,\n",
       "        8.0469e+04], dtype=float32),\n",
       " 'kidney_frac': array([0.00000000e+00, 0.00000000e+00, 0.00000000e+00, ...,\n",
       "        2.09001495e-06, 2.09001495e-06, 2.09001495e-06]),\n",
       " 'kidney_reads': array([ 0.,  0.,  0., ..., 24., 24., 24.], dtype=float32),\n",
       " 'kidney_cum': array([0., 0., 0., ..., 1., 1., 1.], dtype=float32),\n",
       " 'heart_x': array([1.0000e+00, 1.0000e+00, 1.0000e+00, ..., 7.7635e+04, 7.7932e+04,\n",
       "        8.0328e+04], dtype=float32),\n",
       " 'heart_frac': array([0.00000000e+00, 0.00000000e+00, 0.00000000e+00, ...,\n",
       "        1.96592665e-05, 1.96592665e-05, 1.96592665e-05]),\n",
       " 'heart_reads': array([  0.,   0.,   0., ..., 288., 288., 288.], dtype=float32),\n",
       " 'heart_cum': array([0., 0., 0., ..., 1., 1., 1.], dtype=float32),\n",
       " 'lung_x': array([1.00000e+00, 1.00000e+00, 1.00000e+00, ..., 7.43070e+04,\n",
       "        7.69090e+04, 1.20831e+05], dtype=float32),\n",
       " 'lung_frac': array([0.        , 0.        , 0.        , ..., 0.00453273, 0.00453273,\n",
       "        0.00453273]),\n",
       " 'lung_reads': array([     0.,      0.,      0., ..., 298143., 298143., 298143.],\n",
       "       dtype=float32),\n",
       " 'lung_cum': array([0., 0., 0., ..., 1., 1., 1.], dtype=float32)}"
      ]
     },
     "execution_count": 22,
     "metadata": {},
     "output_type": "execute_result"
    }
   ],
   "source": [
    "d"
   ]
  },
  {
   "cell_type": "code",
   "execution_count": 23,
   "metadata": {},
   "outputs": [],
   "source": [
    "np.save('/home/jupyter-user/analysis/viral_summary.npy', d)"
   ]
  },
  {
   "cell_type": "code",
   "execution_count": null,
   "metadata": {},
   "outputs": [],
   "source": [
    "# d = np.load('/home/jupyter-user/analysis/viral_summary.npy', allow_pickle=True).item()"
   ]
  },
  {
   "cell_type": "code",
   "execution_count": 32,
   "metadata": {},
   "outputs": [
    {
     "data": {
      "text/plain": [
       "9141"
      ]
     },
     "execution_count": 32,
     "metadata": {},
     "output_type": "execute_result"
    }
   ],
   "source": [
    "import gc\n",
    "gc.collect()"
   ]
  },
  {
   "cell_type": "code",
   "execution_count": 30,
   "metadata": {},
   "outputs": [
    {
     "data": {
      "image/png": "[encoded data removed]",
      "text/plain": [
       "<Figure size 432x288 with 1 Axes>"
      ]
     },
     "metadata": {
      "needs_background": "light"
     },
     "output_type": "display_data"
    }
   ],
   "source": [
    "for TISSUE in ['liver', 'kidney', 'heart', 'lung']:\n",
    "    plt.plot(d[TISSUE + '_x'], d[TISSUE + '_frac'], label=TISSUE, rasterized=True)\n",
    "    \n",
    "plt.xscale('log')\n",
    "plt.xlabel('Droplet UMI count')\n",
    "plt.ylabel('cumulative viral_count > 0 droplets\\nas a fraction of total droplets')\n",
    "plt.title('Viral droplet distribution\\nas a fraction of total UMI>0 droplets')\n",
    "plt.legend()\n",
    "\n",
    "\n",
    "\n",
    "plt.show()"
   ]
  },
  {
   "cell_type": "code",
   "execution_count": 29,
   "metadata": {},
   "outputs": [
    {
     "data": {
      "image/png": "[encoded data removed]",
      "text/plain": [
       "<Figure size 432x288 with 1 Axes>"
      ]
     },
     "metadata": {
      "needs_background": "light"
     },
     "output_type": "display_data"
    }
   ],
   "source": [
    "for TISSUE in ['liver', 'kidney', 'heart', 'lung']:\n",
    "    plt.plot(d[TISSUE + '_x'], d[TISSUE + '_reads'], label=TISSUE, rasterized=True)\n",
    "\n",
    "plt.xscale('log')\n",
    "plt.xlabel('Droplet UMI count')\n",
    "plt.ylabel('Cumulative viral read count')\n",
    "plt.title('Distribution of viral reads in droplets')\n",
    "plt.legend()\n",
    "\n",
    "# plt.gcf().savefig(f'virus_{TISSUE}_cumulative_reads.pdf', bbox_inches='tight')\n",
    "\n",
    "plt.show()"
   ]
  },
  {
   "cell_type": "markdown",
   "metadata": {},
   "source": [
    "## Extended Data Figure 11l"
   ]
  },
  {
   "cell_type": "code",
   "execution_count": 36,
   "metadata": {},
   "outputs": [
    {
     "data": {
      "image/png": "[encoded data removed]",
      "text/plain": [
       "<Figure size 432x288 with 1 Axes>"
      ]
     },
     "metadata": {
      "needs_background": "light"
     },
     "output_type": "display_data"
    }
   ],
   "source": [
    "for TISSUE in ['liver', 'kidney', 'heart', 'lung']:\n",
    "    plt.plot(d[TISSUE + '_x'], d[TISSUE + '_reads'], label=TISSUE)\n",
    "\n",
    "plt.xscale('log')\n",
    "plt.yscale('log')\n",
    "plt.xlabel('Droplet UMI count')\n",
    "plt.ylabel('Cumulative viral read count')\n",
    "plt.title('Distribution of viral reads in droplets')\n",
    "plt.legend()\n",
    "\n",
    "plt.gcf().savefig(f'virus_cumulative_reads_onepanel_summary.pdf', bbox_inches='tight')\n",
    "\n",
    "plt.show()"
   ]
  },
  {
   "cell_type": "code",
   "execution_count": 31,
   "metadata": {},
   "outputs": [
    {
     "data": {
      "image/png": "[encoded data removed]",
      "text/plain": [
       "<Figure size 432x288 with 1 Axes>"
      ]
     },
     "metadata": {
      "needs_background": "light"
     },
     "output_type": "display_data"
    }
   ],
   "source": [
    "for TISSUE in ['liver', 'kidney', 'heart', 'lung']:\n",
    "    plt.plot(d[TISSUE + '_x'], d[TISSUE + '_cum'], label=TISSUE, rasterized=True)\n",
    "\n",
    "plt.xscale('log')\n",
    "plt.xlabel('UMI count')\n",
    "plt.ylabel('cumulative fraction of\\nviral_count > 0 droplets')\n",
    "plt.title('Viral droplet cumulative distribution functions')\n",
    "plt.legend()\n",
    "\n",
    "\n",
    "plt.show()"
   ]
  },
  {
   "cell_type": "code",
   "execution_count": null,
   "metadata": {},
   "outputs": [],
   "source": []
  }
 ],
 "metadata": {
  "kernelspec": {
   "display_name": "Python 3",
   "language": "python",
   "name": "python3"
  },
  "language_info": {
   "codemirror_mode": {
    "name": "ipython",
    "version": 3
   },
   "file_extension": ".py",
   "mimetype": "text/x-python",
   "name": "python",
   "nbconvert_exporter": "python",
   "pygments_lexer": "ipython3",
   "version": "3.7.9"
  },
  "toc": {
   "base_numbering": 1,
   "nav_menu": {},
   "number_sections": true,
   "sideBar": true,
   "skip_h1_title": false,
   "title_cell": "Table of Contents",
   "title_sidebar": "Contents",
   "toc_cell": false,
   "toc_position": {
    "height": "calc(100% - 180px)",
    "left": "10px",
    "top": "150px",
    "width": "248.391px"
   },
   "toc_section_display": true,
   "toc_window_display": true
  }
 },
 "nbformat": 4,
 "nbformat_minor": 2
}
